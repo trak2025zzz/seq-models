{
 "cells": [
  {
   "cell_type": "markdown",
   "id": "ab1ac3be",
   "metadata": {},
   "source": [
    "### Imports"
   ]
  },
  {
   "cell_type": "code",
   "execution_count": null,
   "id": "e17fb78d",
   "metadata": {},
   "outputs": [],
   "source": [
    "import numpy as np\n",
    "import torch\n",
    "import torch.nn as nn\n",
    "import torch.nn.functional as F\n",
    "from torch.utils.data import TensorDataset, DataLoader\n",
    "from sklearn.model_selection import train_test_split\n",
    "from sklearn.metrics import classification_report, confusion_matrix, ConfusionMatrixDisplay, f1_score\n",
    "import matplotlib.pyplot as plt\n",
    "import seaborn as sns #???"
   ]
  },
  {
   "cell_type": "markdown",
   "id": "84701f7f",
   "metadata": {},
   "source": [
    "### Model Definition"
   ]
  },
  {
   "cell_type": "code",
   "execution_count": null,
   "id": "c410d103",
   "metadata": {},
   "outputs": [],
   "source": [
    "class ResidualBlock(nn.Module):\n",
    "    def __init__(self, in_channels, out_channels, kernel_size, dilation):\n",
    "        super().__init__()\n",
    "        self.conv1 = nn.Conv1d(in_channels, out_channels, kernel_size, padding=dilation, dilation=dilation)\n",
    "        self.relu = nn.ReLU()\n",
    "        self.dropout = nn.Dropout(0.2)\n",
    "        self.resample = nn.Conv1d(in_channels, out_channels, 1) if in_channels!= out_channels else nn.Identity()\n",
    "\n",
    "    def forward(self, x):\n",
    "        residual = self.resample(x)\n",
    "        x = self.conv1(x)\n",
    "        x = self.relu(x)\n",
    "        x = self.dropout(x)\n",
    "        return x + residual\n",
    "    \n",
    "\n",
    "class TCNClassifier(nn.Module):\n",
    "    def __init__(self, vocab_size, embed_dim, time_dim, out_channels, num_classes, seq_len):\n",
    "        super().__init__()\n",
    "        self.embedding = nn.Embedding(vocab_size, embed_dim)\n",
    "        self.time_fc = nn.Linear(3, embed_dim)\n",
    "        \n",
    "        self.blocks = nn.Sequential(\n",
    "            ResidualBlock(embed_dim, out_channels, kernel_size=3, dilation=1),\n",
    "            ResidualBlock(out_channels, out_channels, kernel_size=3, dilation=2),\n",
    "            ResidualBlock(out_channels, out_channels, kernel_size=3, dilation=4)\n",
    "        )\n",
    "        \n",
    "        self.pool = nn.AdaptiveAvgPool1d(1) #Global average pooling\n",
    "        self.classifier = nn.Sequential(\n",
    "            nn.Flatten(),\n",
    "            nn.Linear(out_channels, 64),\n",
    "            nn.ReLU(),\n",
    "            nn.Dropout(0.2),\n",
    "            nn.Linear(64, num_classes)\n",
    "        )\n",
    "        \n",
    "    def forward(self, seq_input, time_input):\n",
    "        x_seq = self.embedding(seq_input)\n",
    "        \n",
    "        B, L, _ = time_input.shape\n",
    "        x_time = self.time_fc(time_input.view(B * L, -1))\n",
    "        x_time = x_time.view(B, L, -1)\n",
    "        \n",
    "        x = x_seq + x_time\n",
    "        x = x.permute(0, 2, 1)\n",
    "        x = self.blocks(x)\n",
    "        x = self.pool(x)\n",
    "        return self.classifier(x)"
   ]
  },
  {
   "cell_type": "markdown",
   "id": "80759f29",
   "metadata": {},
   "source": [
    "### Data Loading"
   ]
  },
  {
   "cell_type": "code",
   "execution_count": null,
   "id": "2991e145",
   "metadata": {},
   "outputs": [],
   "source": [
    "data_dir = \"./dataTCN/\"\n",
    "\n",
    "X_seq = np.load(data_dir + \"X_seq.npy\")       # [B, L] endpoints\n",
    "X_time = np.load(data_dir + \"X_time.npy\")     # [B, L, 3] times\n",
    "y = np.load(data_dir + \"y.npy\")               # [B] user classes\n",
    "\n",
    "print(\"X_seq:\", X_seq.shape)\n",
    "print(\"X_time:\", X_time.shape)\n",
    "print(\"y:\", y.shape)"
   ]
  },
  {
   "cell_type": "markdown",
   "id": "a5cb1152",
   "metadata": {},
   "source": [
    "### Train/Test Split"
   ]
  },
  {
   "cell_type": "code",
   "execution_count": null,
   "id": "e6b71ada",
   "metadata": {},
   "outputs": [],
   "source": [
    "X_seq_train, X_seq_test, X_time_train, X_time_test, y_train, y_test = train_test_split(\n",
    "    X_seq, X_time, y, test_size=0.2, random_state=169783, stratify=y\n",
    ")"
   ]
  },
  {
   "cell_type": "markdown",
   "id": "b6dc15c6",
   "metadata": {},
   "source": [
    "### Datasets and DataLoaders"
   ]
  },
  {
   "cell_type": "code",
   "execution_count": null,
   "id": "8dfb8b94",
   "metadata": {},
   "outputs": [],
   "source": [
    "X_seq_train = torch.tensor(X_seq_train, dtype=torch.long)\n",
    "X_seq_test = torch.tensor(X_seq_test, dtype=torch.long)\n",
    "\n",
    "X_time_train = torch.tensor(X_time_train, dtype=torch.float32)\n",
    "X_time_test = torch.tensor(X_time_test, dtype=torch.float32)\n",
    "\n",
    "y_train = torch.tensor(y_train, dtype=torch.long)\n",
    "y_test = torch.tensor(y_test, dtype=torch.long)\n",
    "\n",
    "batch_size = 64\n",
    "\n",
    "# Datasets\n",
    "train_ds = TensorDataset(X_seq_train, X_time_train, y_train)\n",
    "test_ds = TensorDataset(X_seq_test, X_time_test, y_test)\n",
    "\n",
    "# DataLoaders\n",
    "train_loader = DataLoader(train_ds, batch_size=batch_size, shuffle=True)\n",
    "test_loader = DataLoader(test_ds, batch_size=batch_size)"
   ]
  },
  {
   "cell_type": "markdown",
   "id": "7af6f4b0",
   "metadata": {},
   "source": [
    "### Model Initialization"
   ]
  },
  {
   "cell_type": "code",
   "execution_count": null,
   "id": "d394a5b7",
   "metadata": {},
   "outputs": [],
   "source": [
    "vocab_size = int(X_seq.max() + 1)\n",
    "embed_dim = 64\n",
    "out_channels = 64\n",
    "num_classes = int(y.max() + 1)\n",
    "seq_len = X_seq.shape[1]\n",
    "\n",
    "model = TCNClassifier(vocab_size, embed_dim, 3, out_channels, num_classes, seq_len)"
   ]
  },
  {
   "cell_type": "markdown",
   "id": "6ff4b40d",
   "metadata": {},
   "source": [
    "### Training Loop"
   ]
  },
  {
   "cell_type": "code",
   "execution_count": null,
   "id": "5578755f",
   "metadata": {},
   "outputs": [],
   "source": [
    "device = torch.device(\"cuda\" if torch.cuda.is_available() else \"cpu\")\n",
    "model = model.to(device)\n",
    "\n",
    "criterion = nn.CrossEntropyLoss()\n",
    "optimizer = torch.optim.Adam(model.parameters(), lr=0.001)\n",
    "\n",
    "n_epochs = 10\n",
    "train_losses = []\n",
    "train_accuracies = []\n",
    "\n",
    "for epoch in range(n_epochs):\n",
    "    model.train()\n",
    "    total_loss = 0\n",
    "    correct = 0\n",
    "    total = 0\n",
    "    \n",
    "    for seq_batch, time_batch, y_batch in train_loader:\n",
    "        seq_batch = seq_batch.to(device)\n",
    "        time_batch = time_batch.to(device)\n",
    "        y_batch = y_batch.to(device)\n",
    "        \n",
    "        optimizer.zero_grad()\n",
    "        outputs = model(seq_batch, time_batch)\n",
    "        loss = criterion(outputs, y_batch)\n",
    "        loss.backward()\n",
    "        optimizer.step()\n",
    "        \n",
    "        total_loss += loss.item()\n",
    "        preds = outputs.argmax(dim=1)\n",
    "        correct += (preds == y_batch).sum().item()\n",
    "        total += y_batch.size(0)\n",
    "        \n",
    "    acc = correct / total\n",
    "    train_losses.append(total_loss / len(train_loader))\n",
    "    train_accuracies.append(acc)\n",
    "    \n",
    "    print(f\"\\nEpoch {epoch + 1}/{n_epochs} - Loss: {train_losses[-1]:.4f} - Accuracy: {acc:.4f}\")"
   ]
  },
  {
   "cell_type": "markdown",
   "id": "ff5cdf56",
   "metadata": {},
   "source": [
    "### Evaluation"
   ]
  },
  {
   "cell_type": "code",
   "execution_count": null,
   "id": "487b6dfb",
   "metadata": {},
   "outputs": [],
   "source": [
    "model.eval()\n",
    "all_preds = []\n",
    "all_labels = []\n",
    "\n",
    "with torch.no_grad():\n",
    "    for seq_batch, time_batch, y_batch in test_loader:\n",
    "        seq_batch = seq_batch.to(device)\n",
    "        time_batch = time_batch.to(device)\n",
    "        outputs = model(seq_batch, time_batch)\n",
    "        preds = outputs.argmax(dim=1).cpu().numpy()\n",
    "        all_preds.extend(preds)\n",
    "        all_labels.extend(y_batch.numpy())\n",
    "\n",
    "print(\"Classification report:\")\n",
    "print(classification_report(all_labels, all_preds))"
   ]
  },
  {
   "cell_type": "markdown",
   "id": "751703cf",
   "metadata": {},
   "source": [
    "### Saving the Model"
   ]
  },
  {
   "cell_type": "code",
   "execution_count": null,
   "id": "95df2132",
   "metadata": {},
   "outputs": [],
   "source": [
    "model_path = \"./models/tcn_model.pt\"\n",
    "torch.save(model.state_dict(), model_path)\n",
    "print(f\"Model saved in {model_path}\")"
   ]
  },
  {
   "cell_type": "markdown",
   "id": "dab0cba4",
   "metadata": {},
   "source": [
    "### Visualization"
   ]
  },
  {
   "cell_type": "code",
   "execution_count": null,
   "id": "c90c6213",
   "metadata": {},
   "outputs": [],
   "source": [
    "cm = confusion_matrix(all_labels, all_preds)\n",
    "disp = ConfusionMatrixDisplay(confusion_matrix=cm)\n",
    "disp.plot(cmap=plt.cm.Blues)\n",
    "plt.title(\"TCN - Confusion Matrix\")\n",
    "plt.show()"
   ]
  },
  {
   "cell_type": "code",
   "execution_count": null,
   "id": "e451dfc3",
   "metadata": {},
   "outputs": [],
   "source": [
    "f1_per_class = f1_score(all_labels, all_preds, average=None)\n",
    "labels_unique = np.unique(y)\n",
    "\n",
    "plt.bar(range(len(f1_per_class)), f1_per_class, tick_label=labels_unique)\n",
    "plt.title(\"TCN - F1-score per Class\")\n",
    "plt.xlabel(\"Class\")\n",
    "plt.ylabel(\"F1-score\")\n",
    "plt.ylim(0, 1)\n",
    "plt.grid(True)\n",
    "plt.show()"
   ]
  },
  {
   "cell_type": "code",
   "execution_count": null,
   "id": "d8d82fac",
   "metadata": {},
   "outputs": [],
   "source": [
    "fig, axs = plt.subplots(1, 2, figsize=(12, 4))\n",
    "\n",
    "axs[0].plot(range(1, n_epochs + 1), train_losses, marker='o')\n",
    "axs[0].set_title(\"Training Loss per Epoch\")\n",
    "axs[0].set_xlabel(\"Epoch\")\n",
    "axs[0].set_ylabel(\"Loss\")\n",
    "axs[0].grid(True)\n",
    "\n",
    "axs[1].plot(range(1, n_epochs + 1), train_accuracies, marker='o', color='green')\n",
    "axs[1].set_title(\"Training Accuracy per Epoch\")\n",
    "axs[1].set_xlabel(\"Epoch\")\n",
    "axs[1].set_ylabel(\"Accuracy\")\n",
    "axs[1].grid(True)\n",
    "\n",
    "plt.tight_layout()\n",
    "plt.show()"
   ]
  }
 ],
 "metadata": {
  "kernelspec": {
   "display_name": "Python 3 (ipykernel)",
   "language": "python",
   "name": "python3"
  },
  "language_info": {
   "codemirror_mode": {
    "name": "ipython",
    "version": 3
   },
   "file_extension": ".py",
   "mimetype": "text/x-python",
   "name": "python",
   "nbconvert_exporter": "python",
   "pygments_lexer": "ipython3",
   "version": "3.9.7"
  }
 },
 "nbformat": 4,
 "nbformat_minor": 5
}
