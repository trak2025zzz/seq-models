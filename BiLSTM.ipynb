{
 "cells": [
  {
   "cell_type": "markdown",
   "id": "a90693a9",
   "metadata": {},
   "source": [
    "### Imports"
   ]
  },
  {
   "cell_type": "code",
   "execution_count": null,
   "id": "3ae40267",
   "metadata": {},
   "outputs": [],
   "source": [
    "import numpy as np\n",
    "import torch\n",
    "import torch.nn as nn\n",
    "from torch.utils.data import TensorDataset, DataLoader, random_split\n",
    "import torch.optim as optim\n",
    "from sklearn.metrics import classification_report\n",
    "from sklearn.model_selection import train_test_split"
   ]
  },
  {
   "cell_type": "markdown",
   "id": "2ad5da64",
   "metadata": {},
   "source": [
    "### Model Definition"
   ]
  },
  {
   "cell_type": "code",
   "execution_count": null,
   "id": "7331b573",
   "metadata": {},
   "outputs": [],
   "source": [
    "import torch #???\n",
    "import torch.nn as nn #???\n",
    "\n",
    "class BiLSTMClassifier(nn.Module):\n",
    "    def __init__(self, vocab_size, embed_dim, hidden_dim, time_input_dim, output_dim, dropout=0.3):\n",
    "        super(BiLSTMClassifier, self).__init__()\n",
    "        self.embedding = nn.Embedding(vocab_size, embed_dim)\n",
    "        self.lstm_seq = nn.LSTM(embed_dim, hidden_dim, batch_first=True, bidirectional=True)\n",
    "\n",
    "        self.time_fc = nn.Sequential(\n",
    "            nn.Linear(time_input_dim, hidden_dim),\n",
    "            nn.ReLU(),\n",
    "            nn.Dropout(dropout)\n",
    "        )\n",
    "\n",
    "        self.classifier = nn.Sequential(\n",
    "            nn.Linear(hidden_dim * 2 + hidden_dim, hidden_dim),\n",
    "            nn.ReLU(),\n",
    "            nn.Dropout(dropout),\n",
    "            nn.Linear(hidden_dim, output_dim)\n",
    "        )\n",
    "\n",
    "    def forward(self, seq_input, time_input):\n",
    "        embedded = self.embedding(seq_input)                    # [B, L] -> [B, L, D]\n",
    "        lstm_out, _ = self.lstm_seq(embedded)                   # -> [B, L, 2H]\n",
    "        lstm_out = lstm_out[:, -1, :]  # Last time step   # -> [B, 2H]\n",
    "\n",
    "        time_mean = torch.mean(time_input, dim=1)               # [B, L, 3] -> [B, 3]\n",
    "        time_features = self.time_fc(time_mean)                # -> [B, H]\n",
    "\n",
    "        combined = torch.cat((lstm_out, time_features), dim=1)  # [B, 3H]\n",
    "        return self.classifier(combined)\n",
    "    "
   ]
  },
  {
   "cell_type": "markdown",
   "id": "12322bb4",
   "metadata": {},
   "source": [
    "###  Data Loading"
   ]
  },
  {
   "cell_type": "code",
   "execution_count": null,
   "id": "06e24d34",
   "metadata": {},
   "outputs": [],
   "source": [
    "data_dir = \"./dataBiLSTM/\"\n",
    "\n",
    "X_seq = np.load(data_dir + \"X_seq.npy\")\n",
    "X_time = np.load(data_dir + \"X_time.npy\")\n",
    "y = np.load(data_dir + \"y.npy\")\n",
    "\n",
    "print(\"X_seq shape:\", X_seq.shape)\n",
    "print(\"X_time shape:\", X_time.shape)\n",
    "print(\"y shape:\", y.shape)"
   ]
  },
  {
   "cell_type": "markdown",
   "id": "f5ea716e",
   "metadata": {},
   "source": [
    "### Train/Test Split"
   ]
  },
  {
   "cell_type": "code",
   "execution_count": null,
   "id": "101f9f22",
   "metadata": {},
   "outputs": [],
   "source": [
    "X_seq_train, X_seq_test, X_time_train, X_time_test, y_train, y_test = train_test_split(\n",
    "    X_seq, X_time, y, test_size = 0.2, random_state=169783, stratify=y\n",
    ")"
   ]
  },
  {
   "cell_type": "markdown",
   "id": "140b4633",
   "metadata": {},
   "source": [
    "### Datasets and DataLoaders"
   ]
  },
  {
   "cell_type": "code",
   "execution_count": null,
   "id": "54c7a746",
   "metadata": {},
   "outputs": [],
   "source": [
    "# Convert to tensor\n",
    "X_seq_train_tensor = torch.tensor(X_seq_train, dtype=torch.long)\n",
    "X_seq_test_tensor = torch.tensor(X_seq_test, dtype=torch.long)\n",
    "\n",
    "X_time_train_tensor = torch.tensor(X_time_train, dtype=torch.float32)\n",
    "X_time_test_tensor = torch.tensor(X_time_test, dtype=torch.float32)\n",
    "\n",
    "y_train_tensor = torch.tensor(y_train, dtype=torch.long)\n",
    "y_test_tensor = torch.tensor(y_test, dtype=torch.long)\n",
    "\n",
    "# DataLoader\n",
    "batch_size = 64\n",
    "\n",
    "train_ds = TensorDataset(X_seq_train_tensor, X_time_train_tensor, y_train_tensor)\n",
    "test_ds = TensorDataset(X_seq_test_tensor, X_time_test_tensor, y_test_tensor)\n",
    "\n",
    "train_loader = DataLoader(train_ds, batch_size=batch_size, shuffle=True)\n",
    "test_loader = DataLoader(test_ds, batch_size=batch_size)"
   ]
  },
  {
   "cell_type": "markdown",
   "id": "dbe820df",
   "metadata": {},
   "source": [
    "### Model Initialization"
   ]
  },
  {
   "cell_type": "code",
   "execution_count": null,
   "id": "6cac49ab",
   "metadata": {},
   "outputs": [],
   "source": [
    "# Model parameters\n",
    "vocab_size = int(X_seq.max() + 1) # Number of unique endpoints\n",
    "embed_dim = 64\n",
    "hidden_dim = 128\n",
    "time_input_dim = 3\n",
    "output_dim = int(np.max(y) + 1)\n",
    "\n",
    "model = BiLSTMClassifier(\n",
    "    vocab_size=vocab_size,\n",
    "    embed_dim=embed_dim,\n",
    "    hidden_dim=hidden_dim,\n",
    "    time_input_dim=time_input_dim,\n",
    "    output_dim=output_dim\n",
    ")"
   ]
  },
  {
   "cell_type": "markdown",
   "id": "9c180b4b",
   "metadata": {},
   "source": [
    "### Training Loop"
   ]
  },
  {
   "cell_type": "code",
   "execution_count": null,
   "id": "0ec20373",
   "metadata": {},
   "outputs": [],
   "source": [
    "device = torch.device(\"cuda\" if torch.cuda.is_available() else \"cpu\")\n",
    "model = model.to(device)\n",
    "\n",
    "criterion = nn.CrossEntropyLoss()\n",
    "optimizer = optim.Adam(model.parameters(), lr=0.001)\n",
    "\n",
    "n_epochs = 10\n",
    "\n",
    "train_losses = []\n",
    "train_accuracies = []\n",
    "\n",
    "for epoch in range(n_epochs):\n",
    "    model.train()\n",
    "    total_loss = 0\n",
    "    correct = 0\n",
    "    total = 0\n",
    "    \n",
    "    for seq_batch, time_batch, y_batch in train_loader:\n",
    "        seq_batch = seq_batch.to(device)\n",
    "        time_batch = time_batch.to(device)\n",
    "        y_batch = y_batch.to(device)\n",
    "        \n",
    "        optimizer.zero_grad()\n",
    "        outputs = model(seq_batch, time_batch)\n",
    "        loss = criterion(outputs, y_batch)\n",
    "        loss.backward()\n",
    "        optimizer.step()\n",
    "        \n",
    "        total_loss += loss.item()\n",
    "        \n",
    "        preds = outputs.argmax(dim=1)\n",
    "        correct += (preds == y_batch).sum().item()\n",
    "        total += y_batch.size(0)\n",
    "        \n",
    "    acc = correct / total\n",
    "    train_losses.append(total_loss / len(train_loader))\n",
    "    train_accuracies.append(acc)\n",
    "        \n",
    "    print(f\"\\nEpoch {epoch + 1}/{n_epochs} - Loss: {total_loss / len(train_loader):.4f} - Accuracy: {acc:.4f}\")"
   ]
  },
  {
   "cell_type": "markdown",
   "id": "a573d051",
   "metadata": {},
   "source": [
    "### Evaluation"
   ]
  },
  {
   "cell_type": "code",
   "execution_count": null,
   "id": "9dfa2345",
   "metadata": {},
   "outputs": [],
   "source": [
    "model.eval()\n",
    "all_preds = []\n",
    "all_labels = []\n",
    "\n",
    "with torch.no_grad():\n",
    "    for seq_batch, time_batch, y_batch in test_loader:\n",
    "        seq_batch = seq_batch.to(device)\n",
    "        time_batch = time_batch.to(device)\n",
    "        \n",
    "        outputs = model(seq_batch, time_batch)\n",
    "        preds = outputs.argmax(dim=1).cpu().numpy()\n",
    "        labels = y_batch.numpy()\n",
    "        \n",
    "        all_preds.extend(preds)\n",
    "        all_labels.extend(labels)\n",
    "        \n",
    "print(\"Classification report: \")\n",
    "print(classification_report(all_labels, all_preds))"
   ]
  },
  {
   "cell_type": "markdown",
   "id": "b73ff527",
   "metadata": {},
   "source": [
    "### Saving the Model"
   ]
  },
  {
   "cell_type": "code",
   "execution_count": null,
   "id": "af80e5e2",
   "metadata": {},
   "outputs": [],
   "source": [
    "model_path = \"./models/bilstm_model.pt\"\n",
    "torch.save(model.state_dict(), model_path)\n",
    "print(f\"The model has been saved to {model_path}\")"
   ]
  },
  {
   "cell_type": "markdown",
   "id": "01a1b337",
   "metadata": {},
   "source": [
    "### Results Visualization"
   ]
  },
  {
   "cell_type": "code",
   "execution_count": null,
   "id": "b3f8df97",
   "metadata": {},
   "outputs": [],
   "source": [
    "import matplotlib.pyplot as plt\n",
    "from sklearn.metrics import confusion_matrix, ConfusionMatrixDisplay, f1_score\n",
    "\n",
    "cm = confusion_matrix(all_labels, all_preds)\n",
    "disp = ConfusionMatrixDisplay(confusion_matrix=cm)\n",
    "disp.plot(cmap=plt.cm.Blues)\n",
    "plt.title(\"BiLSTM - Confusion Matrix\")\n",
    "plt.show()\n",
    "\n",
    "import seaborn as sns\n",
    "\n",
    "# Error matrix in percent\n",
    "cm_normalized = cm.astype('float') / cm.sum(axis=1)[:, np.newaxis]\n",
    "\n",
    "plt.figure(figsize=(6, 5))\n",
    "sns.heatmap(cm_normalized, annot=True, fmt=\".2f\", cmap=\"Blues\")\n",
    "plt.title(\"BiLSTM - Normalized Confusion Matrix\")\n",
    "plt.xlabel(\"Predicted\")\n",
    "plt.ylabel(\"True\")\n",
    "plt.show()\n",
    "\n",
    "f1 = f1_score(all_labels, all_preds, average=\"weighted\")\n",
    "print(f\"F1-score (weighted): {f1:.4f}\")"
   ]
  },
  {
   "cell_type": "code",
   "execution_count": null,
   "id": "0a5ad7bd",
   "metadata": {},
   "outputs": [],
   "source": [
    "from sklearn.metrics import f1_score #???\n",
    "\n",
    "# F1 for every class\n",
    "labels_unique = np.unique(all_labels)\n",
    "f1_per_class = f1_score(all_labels, all_preds, average=None)\n",
    "\n",
    "plt.bar(range(len(f1_per_class)), f1_per_class, tick_label=labels_unique)\n",
    "plt.title(\"F1-score per Class\")\n",
    "plt.xlabel(\"Class\")\n",
    "plt.ylabel(\"F1-score\")\n",
    "plt.ylim(0, 1)\n",
    "plt.grid(True)\n",
    "plt.show()"
   ]
  },
  {
   "cell_type": "markdown",
   "id": "24e517d6",
   "metadata": {},
   "source": [
    "### Visualisation"
   ]
  },
  {
   "cell_type": "code",
   "execution_count": null,
   "id": "279c49a1",
   "metadata": {},
   "outputs": [],
   "source": [
    "fig, axs = plt.subplots(1, 2, figsize=(12, 4))\n",
    "\n",
    "# Loss\n",
    "axs[0].plot(range(1, n_epochs + 1), train_losses, marker='o', color='blue')\n",
    "axs[0].set_title(\"Training Loss per Epoch\")\n",
    "axs[0].set_xlabel(\"Epoch\")\n",
    "axs[0].set_ylabel(\"Loss\")\n",
    "axs[0].grid(True)\n",
    "\n",
    "# Accuracy\n",
    "axs[1].plot(range(1, n_epochs + 1), train_accuracies, marker='o', color='green')\n",
    "axs[1].set_title(\"Training Accuracy per Epoch\")\n",
    "axs[1].set_xlabel(\"Epoch\")\n",
    "axs[1].set_ylabel(\"Accuracy\")\n",
    "axs[1].grid(True)\n",
    "\n",
    "plt.tight_layout()\n",
    "plt.show()"
   ]
  }
 ],
 "metadata": {
  "kernelspec": {
   "display_name": "Python 3 (ipykernel)",
   "language": "python",
   "name": "python3"
  },
  "language_info": {
   "codemirror_mode": {
    "name": "ipython",
    "version": 3
   },
   "file_extension": ".py",
   "mimetype": "text/x-python",
   "name": "python",
   "nbconvert_exporter": "python",
   "pygments_lexer": "ipython3",
   "version": "3.9.7"
  }
 },
 "nbformat": 4,
 "nbformat_minor": 5
}
